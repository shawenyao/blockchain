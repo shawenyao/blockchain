{
 "cells": [
  {
   "cell_type": "code",
   "execution_count": null,
   "metadata": {},
   "outputs": [],
   "source": [
    "import requests\n",
    "import numpy as np\n",
    "from uuid import uuid4\n",
    "import json"
   ]
  },
  {
   "cell_type": "code",
   "execution_count": null,
   "metadata": {},
   "outputs": [],
   "source": [
    "# base_url = 'http://192.168.2.108:5000'\n",
    "base_url = 'http://kodi.local:5000'"
   ]
  },
  {
   "cell_type": "code",
   "execution_count": null,
   "metadata": {},
   "outputs": [],
   "source": [
    "# full chain\n",
    "r = requests.get(base_url + '/chain')\n",
    "print(r.status_code, r.reason)\n",
    "print(json.dumps(r.json(), indent=4, sort_keys=True))"
   ]
  },
  {
   "cell_type": "code",
   "execution_count": null,
   "metadata": {},
   "outputs": [],
   "source": [
    "# mine\n",
    "r = requests.get(base_url + '/mine')\n",
    "print(r.status_code, r.reason)\n",
    "print(json.dumps(r.json(), indent=4, sort_keys=True))"
   ]
  },
  {
   "cell_type": "code",
   "execution_count": null,
   "metadata": {},
   "outputs": [],
   "source": [
    "# new transaction\n",
    "r = requests.post(base_url + '/transactions/new',\n",
    "    json={\"sender\": uuid4().hex, \"recipient\": uuid4().hex, \"amount\": np.random.randint(low = 1, high = 1e5)})\n",
    "\n",
    "print(r.status_code, r.reason)\n",
    "print(json.dumps(r.json(), indent=4, sort_keys=True))"
   ]
  }
 ],
 "metadata": {
  "interpreter": {
   "hash": "cdec3df41b54c6fa73525b0a867044708b6c2294cfe3ac6049e5655c23996157"
  },
  "kernelspec": {
   "display_name": "Python 3.7.11 64-bit ('base': conda)",
   "name": "python3"
  },
  "language_info": {
   "codemirror_mode": {
    "name": "ipython",
    "version": 3
   },
   "file_extension": ".py",
   "mimetype": "text/x-python",
   "name": "python",
   "nbconvert_exporter": "python",
   "pygments_lexer": "ipython3",
   "version": "3.7.11"
  },
  "orig_nbformat": 4
 },
 "nbformat": 4,
 "nbformat_minor": 2
}

{
 "cells": [
  {
   "cell_type": "code",
   "execution_count": null,
   "metadata": {},
   "outputs": [],
   "source": [
    "import requests\n",
    "import numpy as np\n",
    "from uuid import uuid4\n",
    "import json\n",
    "import random\n",
    "from IPython.display import clear_output\n",
    "import time"
   ]
  },
  {
   "cell_type": "code",
   "execution_count": null,
   "metadata": {},
   "outputs": [],
   "source": [
    "node1 = 'http://kodi.local:5000'\n",
    "node2 = 'http://kodi.local:5001'\n",
    "node3 = 'http://kodi.local:5002'"
   ]
  },
  {
   "cell_type": "markdown",
   "metadata": {},
   "source": [
    "# node 1"
   ]
  },
  {
   "cell_type": "code",
   "execution_count": null,
   "metadata": {},
   "outputs": [],
   "source": [
    "# full chain\n",
    "r = requests.get(f'{node1}/chain')\n",
    "print(r.status_code, r.reason)\n",
    "print(json.dumps(r.json(), indent=4, sort_keys=True))"
   ]
  },
  {
   "cell_type": "code",
   "execution_count": null,
   "metadata": {},
   "outputs": [],
   "source": [
    "# mine\n",
    "r = requests.get(f'{node1}/mine')\n",
    "print(r.status_code, r.reason)\n",
    "print(json.dumps(r.json(), indent=4, sort_keys=True))"
   ]
  },
  {
   "cell_type": "code",
   "execution_count": null,
   "metadata": {},
   "outputs": [],
   "source": [
    "# balance for each address\n",
    "r = requests.get(f'{node1}/utxo')\n",
    "print(r.status_code, r.reason)\n",
    "print(json.dumps(r.json(), indent=4, sort_keys=True))"
   ]
  },
  {
   "cell_type": "code",
   "execution_count": null,
   "metadata": {},
   "outputs": [],
   "source": [
    "# randomly choose an address whose balance is positive\n",
    "sender = random.choice(list(filter(lambda elem: elem[1] > 0, requests.get(f'{node1}/utxo').json()['balances'].items())))\n",
    "\n",
    "# new transaction\n",
    "r = requests.post(f'{node1}/transactions/new', json={'sender': sender[0], 'recipient': uuid4().hex, 'amount': random.uniform(0, sender[1])})\n",
    "print(r.status_code, r.reason)\n",
    "print(json.dumps(r.json(), indent=4, sort_keys=True))"
   ]
  },
  {
   "cell_type": "code",
   "execution_count": null,
   "metadata": {},
   "outputs": [],
   "source": [
    "# register new nodes\n",
    "r = requests.post(f'{node1}/nodes/register', json={'nodes':[node2, node3]})\n",
    "print(r.status_code, r.reason)\n",
    "print(json.dumps(r.json(), indent=4, sort_keys=True))"
   ]
  },
  {
   "cell_type": "code",
   "execution_count": null,
   "metadata": {},
   "outputs": [],
   "source": [
    "# consensus\n",
    "r = requests.get(f'{node1}/nodes/resolve')\n",
    "print(r.status_code, r.reason)\n",
    "print(json.dumps(r.json(), indent=4, sort_keys=True))"
   ]
  },
  {
   "cell_type": "markdown",
   "metadata": {},
   "source": [
    "# node 2"
   ]
  },
  {
   "cell_type": "code",
   "execution_count": null,
   "metadata": {},
   "outputs": [],
   "source": [
    "# full chain\n",
    "r = requests.get(f'{node2}/chain')\n",
    "print(r.status_code, r.reason)\n",
    "print(json.dumps(r.json(), indent=4, sort_keys=True))"
   ]
  },
  {
   "cell_type": "code",
   "execution_count": null,
   "metadata": {},
   "outputs": [],
   "source": [
    "# mine\n",
    "r = requests.get(f'{node2}/mine')\n",
    "print(r.status_code, r.reason)\n",
    "print(json.dumps(r.json(), indent=4, sort_keys=True))"
   ]
  },
  {
   "cell_type": "code",
   "execution_count": null,
   "metadata": {},
   "outputs": [],
   "source": [
    "# balance for each address\n",
    "r = requests.get(f'{node2}/utxo')\n",
    "print(r.status_code, r.reason)\n",
    "print(json.dumps(r.json(), indent=4, sort_keys=True))"
   ]
  },
  {
   "cell_type": "code",
   "execution_count": null,
   "metadata": {},
   "outputs": [],
   "source": [
    "# randomly choose an address whose balance is positive\n",
    "sender = random.choice(list(filter(lambda elem: elem[1] > 0, requests.get(f'{node2}/utxo').json()['balances'].items())))\n",
    "\n",
    "# new transaction\n",
    "r = requests.post(f'{node2}/transactions/new', json={'sender': sender[0], 'recipient': uuid4().hex, 'amount': random.uniform(0, sender[1])})\n",
    "print(r.status_code, r.reason)\n",
    "print(json.dumps(r.json(), indent=4, sort_keys=True))"
   ]
  },
  {
   "cell_type": "code",
   "execution_count": null,
   "metadata": {},
   "outputs": [],
   "source": [
    "# register new nodes\n",
    "r = requests.post(f'{node2}/nodes/register', json={'nodes':[node1, node3]})\n",
    "print(r.status_code, r.reason)\n",
    "print(json.dumps(r.json(), indent=4, sort_keys=True))"
   ]
  },
  {
   "cell_type": "code",
   "execution_count": null,
   "metadata": {},
   "outputs": [],
   "source": [
    "# consensus\n",
    "r = requests.get(f'{node2}/nodes/resolve')\n",
    "print(r.status_code, r.reason)\n",
    "print(json.dumps(r.json(), indent=4, sort_keys=True))"
   ]
  },
  {
   "cell_type": "markdown",
   "metadata": {},
   "source": [
    "# node 3"
   ]
  },
  {
   "cell_type": "code",
   "execution_count": null,
   "metadata": {},
   "outputs": [],
   "source": [
    "# full chain\n",
    "r = requests.get(f'{node3}/chain')\n",
    "print(r.status_code, r.reason)\n",
    "print(json.dumps(r.json(), indent=4, sort_keys=True))"
   ]
  },
  {
   "cell_type": "code",
   "execution_count": null,
   "metadata": {},
   "outputs": [],
   "source": [
    "# mine\n",
    "r = requests.get(f'{node3}/mine')\n",
    "print(r.status_code, r.reason)\n",
    "print(json.dumps(r.json(), indent=4, sort_keys=True))"
   ]
  },
  {
   "cell_type": "code",
   "execution_count": null,
   "metadata": {},
   "outputs": [],
   "source": [
    "# balance for each address\n",
    "r = requests.get(f'{node3}/utxo')\n",
    "print(r.status_code, r.reason)\n",
    "print(json.dumps(r.json(), indent=4, sort_keys=True))"
   ]
  },
  {
   "cell_type": "code",
   "execution_count": null,
   "metadata": {},
   "outputs": [],
   "source": [
    "# randomly choose an address whose balance is positive\n",
    "sender = random.choice(list(filter(lambda elem: elem[1] > 0, requests.get(f'{node3}/utxo').json()['balances'].items())))\n",
    "\n",
    "# new transaction\n",
    "r = requests.post(f'{node3}/transactions/new', json={'sender': sender[0], 'recipient': uuid4().hex, 'amount': random.uniform(0, sender[1])})\n",
    "print(r.status_code, r.reason)\n",
    "print(json.dumps(r.json(), indent=4, sort_keys=True))"
   ]
  },
  {
   "cell_type": "code",
   "execution_count": null,
   "metadata": {},
   "outputs": [],
   "source": [
    "# register new nodes\n",
    "r = requests.post(f'{node3}/nodes/register', json={'nodes':[node2, node3]})\n",
    "print(r.status_code, r.reason)\n",
    "print(json.dumps(r.json(), indent=4, sort_keys=True))"
   ]
  },
  {
   "cell_type": "code",
   "execution_count": null,
   "metadata": {},
   "outputs": [],
   "source": [
    "# consensus\n",
    "r = requests.get(f'{node3}/nodes/resolve')\n",
    "print(r.status_code, r.reason)\n",
    "print(json.dumps(r.json(), indent=4, sort_keys=True))"
   ]
  },
  {
   "cell_type": "markdown",
   "metadata": {},
   "source": [
    "# simulation"
   ]
  },
  {
   "cell_type": "code",
   "execution_count": null,
   "metadata": {},
   "outputs": [],
   "source": [
    "# start simulation\n",
    "count = 0\n",
    "while count < 100:\n",
    "    active = False\n",
    "    count += 1\n",
    "    time.sleep(0.1)\n",
    "\n",
    "    if count % 7 == 0:\n",
    "        active = True\n",
    "        active_node_name = 'node1'\n",
    "        active_node = node1\n",
    "    elif count % 11 == 0:\n",
    "        active = True\n",
    "        active_node_name = 'node2'\n",
    "        active_node = node2\n",
    "    elif count % 19 == 0:\n",
    "        active = True\n",
    "        active_node_name = 'node3'\n",
    "        active_node = node3\n",
    "    \n",
    "    if active:\n",
    "        clear_output()\n",
    "        print('time ' + str(count) + ': ' + active_node_name + ' is active')\n",
    "\n",
    "        try:\n",
    "            # consensus\n",
    "            requests.get(f'{active_node}/nodes/resolve')\n",
    "            # randomly choose an address whose balance is positive\n",
    "            sender = random.choice(list(filter(lambda elem: elem[1] > 0, requests.get(f'{active_node}/utxo').json()['balances'].items())))\n",
    "            # new transaction\n",
    "            requests.post(f'{active_node}/transactions/new', json={'sender': sender[0], 'recipient': uuid4().hex, 'amount': random.uniform(0, sender[1])})\n",
    "            # mine\n",
    "            requests.get(f'{active_node}/mine')\n",
    "        except:\n",
    "            print('connection error')"
   ]
  },
  {
   "cell_type": "code",
   "execution_count": null,
   "metadata": {},
   "outputs": [],
   "source": [
    "# full chain\n",
    "r = requests.get(f'{node1}/chain')\n",
    "print(r.status_code, r.reason)\n",
    "print(json.dumps(r.json(), indent=4, sort_keys=True))\n",
    "\n",
    "# balance for each address\n",
    "r = requests.get(f'{node1}/utxo')\n",
    "print(r.status_code, r.reason)\n",
    "print(json.dumps(r.json(), indent=4, sort_keys=True))"
   ]
  }
 ],
 "metadata": {
  "interpreter": {
   "hash": "cdec3df41b54c6fa73525b0a867044708b6c2294cfe3ac6049e5655c23996157"
  },
  "kernelspec": {
   "display_name": "Python 3.7.11 64-bit ('base': conda)",
   "name": "python3"
  },
  "language_info": {
   "codemirror_mode": {
    "name": "ipython",
    "version": 3
   },
   "file_extension": ".py",
   "mimetype": "text/x-python",
   "name": "python",
   "nbconvert_exporter": "python",
   "pygments_lexer": "ipython3",
   "version": "3.7.11"
  },
  "orig_nbformat": 4
 },
 "nbformat": 4,
 "nbformat_minor": 2
}

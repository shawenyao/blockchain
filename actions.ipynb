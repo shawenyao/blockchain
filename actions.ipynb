{
 "cells": [
  {
   "cell_type": "code",
   "execution_count": null,
   "metadata": {},
   "outputs": [],
   "source": [
    "import requests\n",
    "import numpy as np\n",
    "from uuid import uuid4\n",
    "import json\n",
    "from IPython.display import clear_output\n",
    "import time"
   ]
  },
  {
   "cell_type": "code",
   "execution_count": null,
   "metadata": {},
   "outputs": [],
   "source": [
    "node1 = 'http://kodi.local:5000'\n",
    "node2 = 'http://kodi.local:5001'\n",
    "node3 = 'http://kodi.local:5002'"
   ]
  },
  {
   "cell_type": "markdown",
   "metadata": {},
   "source": [
    "# node 1"
   ]
  },
  {
   "cell_type": "code",
   "execution_count": null,
   "metadata": {},
   "outputs": [],
   "source": [
    "# full chain\n",
    "r = requests.get(node1 + '/chain')\n",
    "print(r.status_code, r.reason)\n",
    "print(json.dumps(r.json(), indent=4, sort_keys=True))"
   ]
  },
  {
   "cell_type": "code",
   "execution_count": null,
   "metadata": {},
   "outputs": [],
   "source": [
    "# mine\n",
    "r = requests.get(node1 + '/mine')\n",
    "print(r.status_code, r.reason)\n",
    "print(json.dumps(r.json(), indent=4, sort_keys=True))"
   ]
  },
  {
   "cell_type": "code",
   "execution_count": null,
   "metadata": {},
   "outputs": [],
   "source": [
    "# new transaction\n",
    "r = requests.post(node1 + '/transactions/new', json={'sender': uuid4().hex, 'recipient': uuid4().hex, 'amount': np.random.randint(low = 1, high = 1e5)})\n",
    "\n",
    "print(r.status_code, r.reason)\n",
    "print(json.dumps(r.json(), indent=4, sort_keys=True))"
   ]
  },
  {
   "cell_type": "code",
   "execution_count": null,
   "metadata": {},
   "outputs": [],
   "source": [
    "# register new nodes\n",
    "r = requests.post(node1 + '/nodes/register', json={'nodes':[node2, node3]})\n",
    "print(r.status_code, r.reason)\n",
    "print(json.dumps(r.json(), indent=4, sort_keys=True))"
   ]
  },
  {
   "cell_type": "code",
   "execution_count": null,
   "metadata": {},
   "outputs": [],
   "source": [
    "# consensus\n",
    "r = requests.get(node1 + '/nodes/resolve')\n",
    "print(r.status_code, r.reason)\n",
    "print(json.dumps(r.json(), indent=4, sort_keys=True))"
   ]
  },
  {
   "cell_type": "markdown",
   "metadata": {},
   "source": [
    "# node 2"
   ]
  },
  {
   "cell_type": "code",
   "execution_count": null,
   "metadata": {},
   "outputs": [],
   "source": [
    "# full chain\n",
    "r = requests.get(node2 + '/chain')\n",
    "print(r.status_code, r.reason)\n",
    "print(json.dumps(r.json(), indent=4, sort_keys=True))"
   ]
  },
  {
   "cell_type": "code",
   "execution_count": null,
   "metadata": {},
   "outputs": [],
   "source": [
    "# mine\n",
    "r = requests.get(node2 + '/mine')\n",
    "print(r.status_code, r.reason)\n",
    "print(json.dumps(r.json(), indent=4, sort_keys=True))"
   ]
  },
  {
   "cell_type": "code",
   "execution_count": null,
   "metadata": {},
   "outputs": [],
   "source": [
    "# new transaction\n",
    "r = requests.post(node2 + '/transactions/new', json={'sender': uuid4().hex, 'recipient': uuid4().hex, 'amount': np.random.randint(low = 1, high = 1e5)})\n",
    "\n",
    "print(r.status_code, r.reason)\n",
    "print(json.dumps(r.json(), indent=4, sort_keys=True))"
   ]
  },
  {
   "cell_type": "code",
   "execution_count": null,
   "metadata": {},
   "outputs": [],
   "source": [
    "# register new nodes\n",
    "r = requests.post(node2 + '/nodes/register', json={'nodes':[node1, node3]})\n",
    "print(r.status_code, r.reason)\n",
    "print(json.dumps(r.json(), indent=4, sort_keys=True))"
   ]
  },
  {
   "cell_type": "code",
   "execution_count": null,
   "metadata": {},
   "outputs": [],
   "source": [
    "# consensus\n",
    "r = requests.get(node2 + '/nodes/resolve')\n",
    "print(r.status_code, r.reason)\n",
    "print(json.dumps(r.json(), indent=4, sort_keys=True))"
   ]
  },
  {
   "cell_type": "markdown",
   "metadata": {},
   "source": [
    "# node 3"
   ]
  },
  {
   "cell_type": "code",
   "execution_count": null,
   "metadata": {},
   "outputs": [],
   "source": [
    "# full chain\n",
    "r = requests.get(node3 + '/chain')\n",
    "print(r.status_code, r.reason)\n",
    "print(json.dumps(r.json(), indent=4, sort_keys=True))"
   ]
  },
  {
   "cell_type": "code",
   "execution_count": null,
   "metadata": {},
   "outputs": [],
   "source": [
    "# mine\n",
    "r = requests.get(node3 + '/mine')\n",
    "print(r.status_code, r.reason)\n",
    "print(json.dumps(r.json(), indent=4, sort_keys=True))"
   ]
  },
  {
   "cell_type": "code",
   "execution_count": null,
   "metadata": {},
   "outputs": [],
   "source": [
    "# new transaction\n",
    "r = requests.post(node3 + '/transactions/new', json={'sender': uuid4().hex, 'recipient': uuid4().hex, 'amount': np.random.randint(low = 1, high = 1e5)})\n",
    "\n",
    "print(r.status_code, r.reason)\n",
    "print(json.dumps(r.json(), indent=4, sort_keys=True))"
   ]
  },
  {
   "cell_type": "code",
   "execution_count": null,
   "metadata": {},
   "outputs": [],
   "source": [
    "# register new nodes\n",
    "r = requests.post(node3 + '/nodes/register', json={'nodes':[node2, node3]})\n",
    "print(r.status_code, r.reason)\n",
    "print(json.dumps(r.json(), indent=4, sort_keys=True))"
   ]
  },
  {
   "cell_type": "code",
   "execution_count": null,
   "metadata": {},
   "outputs": [],
   "source": [
    "# consensus\n",
    "r = requests.get(node3 + '/nodes/resolve')\n",
    "print(r.status_code, r.reason)\n",
    "print(json.dumps(r.json(), indent=4, sort_keys=True))"
   ]
  },
  {
   "cell_type": "markdown",
   "metadata": {},
   "source": [
    "# simulation"
   ]
  },
  {
   "cell_type": "code",
   "execution_count": null,
   "metadata": {},
   "outputs": [],
   "source": [
    "# register all nodes\n",
    "requests.post(node1 + '/nodes/register', json={'nodes':[node2, node3]})\n",
    "requests.post(node2 + '/nodes/register', json={'nodes':[node1, node3]})\n",
    "requests.post(node3 + '/nodes/register', json={'nodes':[node2, node3]})\n",
    "\n",
    "count = 0\n",
    "while count < 50:\n",
    "    active = False\n",
    "    count += 1\n",
    "    time.sleep(1)\n",
    "\n",
    "    if count % 7 == 0:\n",
    "        active = True\n",
    "        active_node_name = 'node1'\n",
    "        active_node = node1\n",
    "    elif count % 11 == 0:\n",
    "        active = True\n",
    "        active_node_name = 'node2'\n",
    "        active_node = node2\n",
    "    elif count % 19 == 0:\n",
    "        active = True\n",
    "        active_node_name = 'node3'\n",
    "        active_node = node3\n",
    "    \n",
    "    if active:\n",
    "        clear_output()\n",
    "        print('time ' + str(count) + ': ' + active_node_name + ' is active')\n",
    "\n",
    "        try:\n",
    "            requests.get(active_node + '/nodes/resolve')\n",
    "            requests.post(active_node + '/transactions/new', json={'sender': uuid4().hex, 'recipient': uuid4().hex, 'amount': np.random.randint(low = 1, high = 1e5)})\n",
    "            requests.get(active_node + '/mine')\n",
    "        except:\n",
    "            print('connection error')\n"
   ]
  }
 ],
 "metadata": {
  "interpreter": {
   "hash": "cdec3df41b54c6fa73525b0a867044708b6c2294cfe3ac6049e5655c23996157"
  },
  "kernelspec": {
   "display_name": "Python 3.7.11 64-bit ('base': conda)",
   "name": "python3"
  },
  "language_info": {
   "codemirror_mode": {
    "name": "ipython",
    "version": 3
   },
   "file_extension": ".py",
   "mimetype": "text/x-python",
   "name": "python",
   "nbconvert_exporter": "python",
   "pygments_lexer": "ipython3",
   "version": "3.7.11"
  },
  "orig_nbformat": 4
 },
 "nbformat": 4,
 "nbformat_minor": 2
}

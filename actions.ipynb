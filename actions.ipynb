{
 "cells": [
  {
   "cell_type": "code",
   "execution_count": null,
   "metadata": {},
   "outputs": [],
   "source": [
    "import requests\n",
    "import numpy as np\n",
    "from uuid import uuid4\n",
    "import json"
   ]
  },
  {
   "cell_type": "code",
   "execution_count": null,
   "metadata": {},
   "outputs": [],
   "source": [
    "node1 = 'http://kodi.local:5000'\n",
    "node2 = 'http://kodi.local:5001'"
   ]
  },
  {
   "cell_type": "markdown",
   "metadata": {},
   "source": [
    "# node 1"
   ]
  },
  {
   "cell_type": "code",
   "execution_count": null,
   "metadata": {},
   "outputs": [],
   "source": [
    "# full chain\n",
    "r = requests.get(node1 + '/chain')\n",
    "print(r.status_code, r.reason)\n",
    "print(json.dumps(r.json(), indent=4, sort_keys=True))"
   ]
  },
  {
   "cell_type": "code",
   "execution_count": null,
   "metadata": {},
   "outputs": [],
   "source": [
    "# mine\n",
    "r = requests.get(node1 + '/mine')\n",
    "print(r.status_code, r.reason)\n",
    "print(json.dumps(r.json(), indent=4, sort_keys=True))"
   ]
  },
  {
   "cell_type": "code",
   "execution_count": null,
   "metadata": {},
   "outputs": [],
   "source": [
    "# new transaction\n",
    "r = requests.post(node1 + '/transactions/new',\n",
    "    json={'sender': uuid4().hex, 'recipient': uuid4().hex, 'amount': np.random.randint(low = 1, high = 1e5)})\n",
    "\n",
    "print(r.status_code, r.reason)\n",
    "print(json.dumps(r.json(), indent=4, sort_keys=True))"
   ]
  },
  {
   "cell_type": "code",
   "execution_count": null,
   "metadata": {},
   "outputs": [],
   "source": [
    "# register a new node\n",
    "r = requests.post(node1 + '/nodes/register', json={'nodes':[node2]})\n",
    "print(r.status_code, r.reason)\n",
    "print(json.dumps(r.json(), indent=4, sort_keys=True))"
   ]
  },
  {
   "cell_type": "code",
   "execution_count": null,
   "metadata": {},
   "outputs": [],
   "source": [
    "# consensus\n",
    "r = requests.get(node1 + '/nodes/resolve')\n",
    "print(r.status_code, r.reason)\n",
    "print(json.dumps(r.json(), indent=4, sort_keys=True))"
   ]
  },
  {
   "cell_type": "markdown",
   "metadata": {},
   "source": [
    "# node 2"
   ]
  },
  {
   "cell_type": "code",
   "execution_count": null,
   "metadata": {},
   "outputs": [],
   "source": [
    "# full chain\n",
    "r = requests.get(node2 + '/chain')\n",
    "print(r.status_code, r.reason)\n",
    "print(json.dumps(r.json(), indent=4, sort_keys=True))"
   ]
  },
  {
   "cell_type": "code",
   "execution_count": null,
   "metadata": {},
   "outputs": [],
   "source": [
    "# mine\n",
    "r = requests.get(node2 + '/mine')\n",
    "print(r.status_code, r.reason)\n",
    "print(json.dumps(r.json(), indent=4, sort_keys=True))"
   ]
  },
  {
   "cell_type": "code",
   "execution_count": null,
   "metadata": {},
   "outputs": [],
   "source": [
    "# new transaction\n",
    "r = requests.post(node2 + '/transactions/new',\n",
    "    json={'sender': uuid4().hex, 'recipient': uuid4().hex, 'amount': np.random.randint(low = 1, high = 1e5)})\n",
    "\n",
    "print(r.status_code, r.reason)\n",
    "print(json.dumps(r.json(), indent=4, sort_keys=True))"
   ]
  },
  {
   "cell_type": "code",
   "execution_count": null,
   "metadata": {},
   "outputs": [],
   "source": [
    "# register a new node\n",
    "r = requests.post(node2 + '/nodes/register', json={'nodes':[node1]})\n",
    "print(r.status_code, r.reason)\n",
    "print(json.dumps(r.json(), indent=4, sort_keys=True))"
   ]
  },
  {
   "cell_type": "code",
   "execution_count": null,
   "metadata": {},
   "outputs": [],
   "source": [
    "# consensus\n",
    "r = requests.get(node2 + '/nodes/resolve')\n",
    "print(r.status_code, r.reason)\n",
    "print(json.dumps(r.json(), indent=4, sort_keys=True))"
   ]
  }
 ],
 "metadata": {
  "interpreter": {
   "hash": "cdec3df41b54c6fa73525b0a867044708b6c2294cfe3ac6049e5655c23996157"
  },
  "kernelspec": {
   "display_name": "Python 3.7.11 64-bit ('base': conda)",
   "name": "python3"
  },
  "language_info": {
   "codemirror_mode": {
    "name": "ipython",
    "version": 3
   },
   "file_extension": ".py",
   "mimetype": "text/x-python",
   "name": "python",
   "nbconvert_exporter": "python",
   "pygments_lexer": "ipython3",
   "version": "3.7.11"
  },
  "orig_nbformat": 4
 },
 "nbformat": 4,
 "nbformat_minor": 2
}

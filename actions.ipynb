{
 "cells": [
  {
   "cell_type": "code",
   "execution_count": null,
   "metadata": {},
   "outputs": [],
   "source": [
    "import requests\n",
    "import numpy as np\n",
    "from uuid import uuid4\n",
    "import json\n",
    "import random\n",
    "from IPython.display import clear_output\n",
    "import time"
   ]
  },
  {
   "cell_type": "code",
   "execution_count": null,
   "metadata": {},
   "outputs": [],
   "source": [
    "node1 = 'http://kodi.local:5000'\n",
    "node2 = 'http://kodi.local:5001'\n",
    "node3 = 'http://kodi.local:5002'"
   ]
  },
  {
   "cell_type": "markdown",
   "metadata": {},
   "source": [
    "# node 1"
   ]
  },
  {
   "cell_type": "code",
   "execution_count": null,
   "metadata": {},
   "outputs": [],
   "source": [
    "# full chain\n",
    "r = requests.get(f'{node1}/chain')\n",
    "print(r.status_code, r.reason)\n",
    "print(json.dumps(r.json(), indent=4, sort_keys=True))"
   ]
  },
  {
   "cell_type": "code",
   "execution_count": null,
   "metadata": {},
   "outputs": [],
   "source": [
    "# mine\n",
    "r = requests.get(f'{node1}/mine')\n",
    "print(r.status_code, r.reason)\n",
    "print(json.dumps(r.json(), indent=4, sort_keys=True))"
   ]
  },
  {
   "cell_type": "code",
   "execution_count": null,
   "metadata": {},
   "outputs": [],
   "source": [
    "# balance for each address\n",
    "r = requests.get(f'{node1}/utxo')\n",
    "print(r.status_code, r.reason)\n",
    "print(json.dumps(r.json(), indent=4, sort_keys=True))"
   ]
  },
  {
   "cell_type": "code",
   "execution_count": null,
   "metadata": {},
   "outputs": [],
   "source": [
    "# randomly choose an address whose balance is positive\n",
    "sender = random.choice(list(filter(lambda elem: elem[1] > 0, requests.get(f'{node1}/utxo').json()['balances'].items())))\n",
    "\n",
    "# new transaction\n",
    "r = requests.post(f'{node1}/transactions/new', json={'sender': sender[0], 'recipient': uuid4().hex, 'amount': random.uniform(0, sender[1])})\n",
    "print(r.status_code, r.reason)\n",
    "print(json.dumps(r.json(), indent=4, sort_keys=True))"
   ]
  },
  {
   "cell_type": "code",
   "execution_count": null,
   "metadata": {},
   "outputs": [],
   "source": [
    "# register new nodes\n",
    "r = requests.post(f'{node1}/nodes/register', json={'nodes':[node2, node3]})\n",
    "print(r.status_code, r.reason)\n",
    "print(json.dumps(r.json(), indent=4, sort_keys=True))"
   ]
  },
  {
   "cell_type": "code",
   "execution_count": null,
   "metadata": {},
   "outputs": [],
   "source": [
    "# consensus\n",
    "r = requests.get(f'{node1}/nodes/resolve')\n",
    "print(r.status_code, r.reason)\n",
    "print(json.dumps(r.json(), indent=4, sort_keys=True))"
   ]
  },
  {
   "cell_type": "markdown",
   "metadata": {},
   "source": [
    "# node 2"
   ]
  },
  {
   "cell_type": "code",
   "execution_count": null,
   "metadata": {},
   "outputs": [],
   "source": [
    "# full chain\n",
    "r = requests.get(f'{node2}/chain')\n",
    "print(r.status_code, r.reason)\n",
    "print(json.dumps(r.json(), indent=4, sort_keys=True))"
   ]
  },
  {
   "cell_type": "code",
   "execution_count": null,
   "metadata": {},
   "outputs": [],
   "source": [
    "# mine\n",
    "r = requests.get(f'{node2}/mine')\n",
    "print(r.status_code, r.reason)\n",
    "print(json.dumps(r.json(), indent=4, sort_keys=True))"
   ]
  },
  {
   "cell_type": "code",
   "execution_count": null,
   "metadata": {},
   "outputs": [],
   "source": [
    "# balance for each address\n",
    "r = requests.get(f'{node2}/utxo')\n",
    "print(r.status_code, r.reason)\n",
    "print(json.dumps(r.json(), indent=4, sort_keys=True))"
   ]
  },
  {
   "cell_type": "code",
   "execution_count": null,
   "metadata": {},
   "outputs": [],
   "source": [
    "# randomly choose an address whose balance is positive\n",
    "sender = random.choice(list(filter(lambda elem: elem[1] > 0, requests.get(f'{node2}/utxo').json()['balances'].items())))\n",
    "\n",
    "# new transaction\n",
    "r = requests.post(f'{node2}/transactions/new', json={'sender': sender[0], 'recipient': uuid4().hex, 'amount': random.uniform(0, sender[1])})\n",
    "print(r.status_code, r.reason)\n",
    "print(json.dumps(r.json(), indent=4, sort_keys=True))"
   ]
  },
  {
   "cell_type": "code",
   "execution_count": null,
   "metadata": {},
   "outputs": [],
   "source": [
    "# register new nodes\n",
    "r = requests.post(f'{node2}/nodes/register', json={'nodes':[node1, node3]})\n",
    "print(r.status_code, r.reason)\n",
    "print(json.dumps(r.json(), indent=4, sort_keys=True))"
   ]
  },
  {
   "cell_type": "code",
   "execution_count": null,
   "metadata": {},
   "outputs": [],
   "source": [
    "# consensus\n",
    "r = requests.get(f'{node2}/nodes/resolve')\n",
    "print(r.status_code, r.reason)\n",
    "print(json.dumps(r.json(), indent=4, sort_keys=True))"
   ]
  },
  {
   "cell_type": "markdown",
   "metadata": {},
   "source": [
    "# node 3"
   ]
  },
  {
   "cell_type": "code",
   "execution_count": null,
   "metadata": {},
   "outputs": [],
   "source": [
    "# full chain\n",
    "r = requests.get(f'{node3}/chain')\n",
    "print(r.status_code, r.reason)\n",
    "print(json.dumps(r.json(), indent=4, sort_keys=True))"
   ]
  },
  {
   "cell_type": "code",
   "execution_count": null,
   "metadata": {},
   "outputs": [],
   "source": [
    "# mine\n",
    "r = requests.get(f'{node3}/mine')\n",
    "print(r.status_code, r.reason)\n",
    "print(json.dumps(r.json(), indent=4, sort_keys=True))"
   ]
  },
  {
   "cell_type": "code",
   "execution_count": null,
   "metadata": {},
   "outputs": [],
   "source": [
    "# balance for each address\n",
    "r = requests.get(f'{node3}/utxo')\n",
    "print(r.status_code, r.reason)\n",
    "print(json.dumps(r.json(), indent=4, sort_keys=True))"
   ]
  },
  {
   "cell_type": "code",
   "execution_count": null,
   "metadata": {},
   "outputs": [],
   "source": [
    "# randomly choose an address whose balance is positive\n",
    "sender = random.choice(list(filter(lambda elem: elem[1] > 0, requests.get(f'{node3}/utxo').json()['balances'].items())))\n",
    "\n",
    "# new transaction\n",
    "r = requests.post(f'{node3}/transactions/new', json={'sender': sender[0], 'recipient': uuid4().hex, 'amount': random.uniform(0, sender[1])})\n",
    "print(r.status_code, r.reason)\n",
    "print(json.dumps(r.json(), indent=4, sort_keys=True))"
   ]
  },
  {
   "cell_type": "code",
   "execution_count": null,
   "metadata": {},
   "outputs": [],
   "source": [
    "# register new nodes\n",
    "r = requests.post(f'{node3}/nodes/register', json={'nodes':[node2, node3]})\n",
    "print(r.status_code, r.reason)\n",
    "print(json.dumps(r.json(), indent=4, sort_keys=True))"
   ]
  },
  {
   "cell_type": "code",
   "execution_count": null,
   "metadata": {},
   "outputs": [],
   "source": [
    "# consensus\n",
    "r = requests.get(f'{node3}/nodes/resolve')\n",
    "print(r.status_code, r.reason)\n",
    "print(json.dumps(r.json(), indent=4, sort_keys=True))"
   ]
  },
  {
   "cell_type": "markdown",
   "metadata": {},
   "source": [
    "# simulation"
   ]
  },
  {
   "cell_type": "code",
   "execution_count": 11,
   "metadata": {},
   "outputs": [
    {
     "data": {
      "text/plain": [
       "<Response [201]>"
      ]
     },
     "execution_count": 11,
     "metadata": {},
     "output_type": "execute_result"
    }
   ],
   "source": [
    "# register all nodes\n",
    "requests.post(f'{node1}/nodes/register', json={'nodes':[node2, node3]})\n",
    "requests.post(f'{node2}/nodes/register', json={'nodes':[node1, node3]})\n",
    "requests.post(f'{node3}/nodes/register', json={'nodes':[node2, node3]})"
   ]
  },
  {
   "cell_type": "code",
   "execution_count": 12,
   "metadata": {},
   "outputs": [
    {
     "name": "stdout",
     "output_type": "stream",
     "text": [
      "time 49: node1 is active\n",
      "connection error\n"
     ]
    }
   ],
   "source": [
    "# start simulation\n",
    "count = 0\n",
    "while count < 1000:\n",
    "    active = False\n",
    "    count += 1\n",
    "    time.sleep(0.1)\n",
    "\n",
    "    if count % 7 == 0:\n",
    "        active = True\n",
    "        active_node_name = 'node1'\n",
    "        active_node = node1\n",
    "    elif count % 11 == 0:\n",
    "        active = True\n",
    "        active_node_name = 'node2'\n",
    "        active_node = node2\n",
    "    elif count % 19 == 0:\n",
    "        active = True\n",
    "        active_node_name = 'node3'\n",
    "        active_node = node3\n",
    "    \n",
    "    if active:\n",
    "        clear_output()\n",
    "        print('time ' + str(count) + ': ' + active_node_name + ' is active')\n",
    "\n",
    "        try:\n",
    "            # consensus\n",
    "            requests.get(f'{active_node}/nodes/resolve')\n",
    "            # randomly choose an address whose balance is positive\n",
    "            sender = random.choice(list(filter(lambda elem: elem[1] > 0, requests.get(f'{active_node}/utxo').json()['balances'].items())))\n",
    "            # new transaction\n",
    "            requests.post(f'{active_node}/transactions/new', json={'sender': sender[0], 'recipient': uuid4().hex, 'amount': random.uniform(0, sender[1])})\n",
    "            # mine\n",
    "            requests.get(f'{active_node}/mine')\n",
    "        except:\n",
    "            print('connection error')"
   ]
  },
  {
   "cell_type": "code",
   "execution_count": 13,
   "metadata": {},
   "outputs": [
    {
     "name": "stdout",
     "output_type": "stream",
     "text": [
      "200 OK\n",
      "{\n",
      "    \"chain\": [\n",
      "        {\n",
      "            \"index\": 1,\n",
      "            \"previous_hash\": 1,\n",
      "            \"proof\": 100,\n",
      "            \"timestamp\": 1634016901.3397353,\n",
      "            \"transactions\": []\n",
      "        },\n",
      "        {\n",
      "            \"index\": 2,\n",
      "            \"previous_hash\": \"0b2734ebc197e670f8879305e8af7b407b8f4c5c63cd52d9b4961a23afec88bd\",\n",
      "            \"proof\": 1636606745,\n",
      "            \"timestamp\": 1634016922.1969917,\n",
      "            \"transactions\": [\n",
      "                {\n",
      "                    \"amount\": 1,\n",
      "                    \"recipient\": \"3bd3a386b1964ed3afb828f1df6e053e\",\n",
      "                    \"sender\": \"0\"\n",
      "                }\n",
      "            ]\n",
      "        },\n",
      "        {\n",
      "            \"index\": 3,\n",
      "            \"previous_hash\": \"cbf5bca8819c0a5c3e30388347d8d0a1e8b1edd22cd74b0916b744a0aa5afec0\",\n",
      "            \"proof\": 757124893,\n",
      "            \"timestamp\": 1634016966.0091262,\n",
      "            \"transactions\": [\n",
      "                {\n",
      "                    \"amount\": 0.37320373511298677,\n",
      "                    \"recipient\": \"fe90dba958014d25912a1f607ba7aeb2\",\n",
      "                    \"sender\": \"3bd3a386b1964ed3afb828f1df6e053e\"\n",
      "                },\n",
      "                {\n",
      "                    \"amount\": 0.540573965755296,\n",
      "                    \"recipient\": \"10de2b100bb247f99967465ecf107170\",\n",
      "                    \"sender\": \"3bd3a386b1964ed3afb828f1df6e053e\"\n",
      "                },\n",
      "                {\n",
      "                    \"amount\": 1,\n",
      "                    \"recipient\": \"3bd3a386b1964ed3afb828f1df6e053e\",\n",
      "                    \"sender\": \"0\"\n",
      "                }\n",
      "            ]\n",
      "        },\n",
      "        {\n",
      "            \"index\": 4,\n",
      "            \"previous_hash\": \"e410ce6460d25ce97a720783588c0e6122da60c7f5634b22a7b8df47219b6317\",\n",
      "            \"proof\": 820005373,\n",
      "            \"timestamp\": 1634016969.12159,\n",
      "            \"transactions\": [\n",
      "                {\n",
      "                    \"amount\": 0.3125579787954929,\n",
      "                    \"recipient\": \"4e8cc07b299248f0a2d75c043d5f4cec\",\n",
      "                    \"sender\": \"3bd3a386b1964ed3afb828f1df6e053e\"\n",
      "                },\n",
      "                {\n",
      "                    \"amount\": 1,\n",
      "                    \"recipient\": \"975b3b1886004357a9d895b11325c3bb\",\n",
      "                    \"sender\": \"0\"\n",
      "                }\n",
      "            ]\n",
      "        },\n",
      "        {\n",
      "            \"index\": 5,\n",
      "            \"previous_hash\": \"e82d1b142a0e39f5508233eac2d7b201f219c77b9f5d16c80b172069af2d1bb7\",\n",
      "            \"proof\": 1367889857,\n",
      "            \"timestamp\": 1634016973.1165688,\n",
      "            \"transactions\": [\n",
      "                {\n",
      "                    \"amount\": 0.12466022443419002,\n",
      "                    \"recipient\": \"203d255efe024ff48bbb82c5e7114c22\",\n",
      "                    \"sender\": \"10de2b100bb247f99967465ecf107170\"\n",
      "                },\n",
      "                {\n",
      "                    \"amount\": 1,\n",
      "                    \"recipient\": \"3bd3a386b1964ed3afb828f1df6e053e\",\n",
      "                    \"sender\": \"0\"\n",
      "                }\n",
      "            ]\n",
      "        },\n",
      "        {\n",
      "            \"index\": 6,\n",
      "            \"previous_hash\": \"e1325600ce36097b14bdd75adea158e7aaf3dcda8ce44b7e250beb87eb639818\",\n",
      "            \"proof\": 893780022,\n",
      "            \"timestamp\": 1634016982.9155862,\n",
      "            \"transactions\": [\n",
      "                {\n",
      "                    \"amount\": 0.05736577135325,\n",
      "                    \"recipient\": \"a579589ac7cd4478839d439c002906a2\",\n",
      "                    \"sender\": \"203d255efe024ff48bbb82c5e7114c22\"\n",
      "                },\n",
      "                {\n",
      "                    \"amount\": 1,\n",
      "                    \"recipient\": \"975b3b1886004357a9d895b11325c3bb\",\n",
      "                    \"sender\": \"0\"\n",
      "                }\n",
      "            ]\n",
      "        },\n",
      "        {\n",
      "            \"index\": 7,\n",
      "            \"previous_hash\": \"376f58d9cbb2d3cac80d468e87d205105166c6ea692ffca7841b8dc202db929e\",\n",
      "            \"proof\": 353535954,\n",
      "            \"timestamp\": 1634016986.7968018,\n",
      "            \"transactions\": [\n",
      "                {\n",
      "                    \"amount\": 0.11354886498129374,\n",
      "                    \"recipient\": \"6e090be00246476aa3585822d6be4e4e\",\n",
      "                    \"sender\": \"203d255efe024ff48bbb82c5e7114c22\"\n",
      "                },\n",
      "                {\n",
      "                    \"amount\": 0.2882840214459411,\n",
      "                    \"recipient\": \"0996e1a446d2454d9487f770d8d4e0da\",\n",
      "                    \"sender\": \"10de2b100bb247f99967465ecf107170\"\n",
      "                },\n",
      "                {\n",
      "                    \"amount\": 1,\n",
      "                    \"recipient\": \"3bd3a386b1964ed3afb828f1df6e053e\",\n",
      "                    \"sender\": \"0\"\n",
      "                }\n",
      "            ]\n",
      "        },\n",
      "        {\n",
      "            \"index\": 8,\n",
      "            \"previous_hash\": \"f426c167fd88ecffef55c64a19df026734915bfe39839a206f0ca29497661665\",\n",
      "            \"proof\": 1664827676,\n",
      "            \"timestamp\": 1634016991.6968079,\n",
      "            \"transactions\": [\n",
      "                {\n",
      "                    \"amount\": 0.016738431960629442,\n",
      "                    \"recipient\": \"9d17fa86521d4df99e40875a2c6cff9f\",\n",
      "                    \"sender\": \"10de2b100bb247f99967465ecf107170\"\n",
      "                },\n",
      "                {\n",
      "                    \"amount\": 1,\n",
      "                    \"recipient\": \"975b3b1886004357a9d895b11325c3bb\",\n",
      "                    \"sender\": \"0\"\n",
      "                }\n",
      "            ]\n",
      "        }\n",
      "    ],\n",
      "    \"length\": 8,\n",
      "    \"node_identifier\": \"3bd3a386b1964ed3afb828f1df6e053e\"\n",
      "}\n",
      "200 OK\n",
      "{\n",
      "    \"balances\": {\n",
      "        \"0\": -7,\n",
      "        \"0996e1a446d2454d9487f770d8d4e0da\": 0.2882840214459411,\n",
      "        \"10de2b100bb247f99967465ecf107170\": 0.11089128791453548,\n",
      "        \"203d255efe024ff48bbb82c5e7114c22\": -0.04625441190035373,\n",
      "        \"3bd3a386b1964ed3afb828f1df6e053e\": 2.7736643203362243,\n",
      "        \"4e8cc07b299248f0a2d75c043d5f4cec\": 0.3125579787954929,\n",
      "        \"6e090be00246476aa3585822d6be4e4e\": 0.11354886498129374,\n",
      "        \"975b3b1886004357a9d895b11325c3bb\": 3,\n",
      "        \"9d17fa86521d4df99e40875a2c6cff9f\": 0.016738431960629442,\n",
      "        \"a579589ac7cd4478839d439c002906a2\": 0.05736577135325,\n",
      "        \"fe90dba958014d25912a1f607ba7aeb2\": 0.37320373511298677\n",
      "    },\n",
      "    \"node_identifier\": \"3bd3a386b1964ed3afb828f1df6e053e\"\n",
      "}\n"
     ]
    }
   ],
   "source": [
    "# full chain\n",
    "r = requests.get(f'{node1}/chain')\n",
    "print(r.status_code, r.reason)\n",
    "print(json.dumps(r.json(), indent=4, sort_keys=True))\n",
    "\n",
    "# balance for each address\n",
    "r = requests.get(f'{active_node}/utxo')\n",
    "print(r.status_code, r.reason)\n",
    "print(json.dumps(r.json(), indent=4, sort_keys=True))"
   ]
  }
 ],
 "metadata": {
  "interpreter": {
   "hash": "cdec3df41b54c6fa73525b0a867044708b6c2294cfe3ac6049e5655c23996157"
  },
  "kernelspec": {
   "display_name": "Python 3.7.11 64-bit ('base': conda)",
   "name": "python3"
  },
  "language_info": {
   "codemirror_mode": {
    "name": "ipython",
    "version": 3
   },
   "file_extension": ".py",
   "mimetype": "text/x-python",
   "name": "python",
   "nbconvert_exporter": "python",
   "pygments_lexer": "ipython3",
   "version": "3.7.11"
  },
  "orig_nbformat": 4
 },
 "nbformat": 4,
 "nbformat_minor": 2
}
